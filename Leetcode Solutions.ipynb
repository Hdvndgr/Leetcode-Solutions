{
 "cells": [
  {
   "cell_type": "markdown",
   "metadata": {},
   "source": [
    "# Question 859. Buddy Strings"
   ]
  },
  {
   "cell_type": "code",
   "execution_count": 8,
   "metadata": {},
   "outputs": [],
   "source": [
    "class Solution:   \n",
    "    def buddyStrings(self, A, B):\n",
    "        \"\"\"\n",
    "        :type A: str\n",
    "        :type B: str\n",
    "        :rtype: bool\n",
    "        \"\"\"\n",
    "        #Check 1: lenght of the words must be equal\n",
    "        if len(A) != len(B):\n",
    "            return False\n",
    "        \n",
    "        #Check 2: different letter quantity should be 0 or 2 because we will change only two letters\n",
    "        def check(myStr):\n",
    "            for x in range(len(myStr)):\n",
    "                if myStr.count(myStr[x]) > 1:\n",
    "                    return True\n",
    "            return False    \n",
    "     \n",
    "        dif_num = 0\n",
    "        dif_idx = []\n",
    "        setA = set()\n",
    "        setB = set()\n",
    "        for x in range(len(A)):\n",
    "            if A[x] != B[x]:\n",
    "                dif_idx.append(x)\n",
    "                setA.add(A[x])\n",
    "                setB.add(B[x])\n",
    "        if len(dif_idx) > 0 and len(dif_idx) != 2:\n",
    "            return False\n",
    "        elif len(dif_idx) == 0:\n",
    "            return check(A)\n",
    "        else:\n",
    "            return setA==setB"
   ]
  },
  {
   "cell_type": "code",
   "execution_count": 14,
   "metadata": {},
   "outputs": [
    {
     "name": "stdout",
     "output_type": "stream",
     "text": [
      "True\n",
      "False\n",
      "True\n",
      "True\n",
      "False\n",
      "False\n",
      "False\n"
     ]
    }
   ],
   "source": [
    "S = Solution()\n",
    "print(S.buddyStrings(\"ab\",\"ba\"))\n",
    "print(S.buddyStrings(\"ab\",\"ab\"))\n",
    "print(S.buddyStrings(\"aa\",\"aa\"))\n",
    "print(S.buddyStrings(\"aaaabc\",\"aaaacb\"))\n",
    "print(S.buddyStrings(\"aaadbc\",\"aadacb\"))\n",
    "print(S.buddyStrings(\"ac\",\"aa\"))\n",
    "print(S.buddyStrings(\"\",\"aa\"))"
   ]
  },
  {
   "cell_type": "markdown",
   "metadata": {},
   "source": [
    "<img src=\"Screenshots/Q859.png\" width=\"1200\" />"
   ]
  },
  {
   "cell_type": "markdown",
   "metadata": {},
   "source": [
    "# Question 260. Single Number III"
   ]
  },
  {
   "cell_type": "code",
   "execution_count": 15,
   "metadata": {},
   "outputs": [],
   "source": [
    "class Solution:\n",
    "    def singleNumber(self, nums):\n",
    "        \"\"\"\n",
    "        :type nums: List[int]\n",
    "        :rtype: List[int]\n",
    "        \"\"\"\n",
    "        nums_set = set(nums)\n",
    "        num_list = list(nums_set)\n",
    "        for x in range(len(num_list)):\n",
    "            nums.remove(num_list[x])\n",
    "        new_set = set(nums) \n",
    "        return list(nums_set.difference(new_set))"
   ]
  },
  {
   "cell_type": "code",
   "execution_count": 16,
   "metadata": {},
   "outputs": [
    {
     "name": "stdout",
     "output_type": "stream",
     "text": [
      "[3, 5]\n"
     ]
    }
   ],
   "source": [
    "S2 = Solution()\n",
    "print(S2.singleNumber([1,2,1,3,2,5]))"
   ]
  },
  {
   "cell_type": "markdown",
   "metadata": {},
   "source": [
    "<img src=\"Screenshots/Q260.png\" width=\"1200\" />"
   ]
  },
  {
   "cell_type": "markdown",
   "metadata": {},
   "source": [
    "# Question 747. Largest Number At Least Twice of Others"
   ]
  },
  {
   "cell_type": "code",
   "execution_count": 17,
   "metadata": {},
   "outputs": [],
   "source": [
    "class Solution:\n",
    "    def dominantIndex(self, nums):\n",
    "        numMax = max(nums)\n",
    "        for x in range(len(nums)):\n",
    "            if x == nums.index(numMax) or nums[x] == 0:\n",
    "                continue\n",
    "            if numMax/nums[x] < 2:\n",
    "                return -1\n",
    "        return nums.index(numMax)"
   ]
  },
  {
   "cell_type": "code",
   "execution_count": 18,
   "metadata": {},
   "outputs": [
    {
     "name": "stdout",
     "output_type": "stream",
     "text": [
      "1\n",
      "-1\n"
     ]
    }
   ],
   "source": [
    "S3 = Solution()\n",
    "print(S3.dominantIndex([3,6,1,0]))\n",
    "print(S3.dominantIndex([1,2,3,4]))"
   ]
  },
  {
   "cell_type": "markdown",
   "metadata": {},
   "source": [
    "<img src=\"Screenshots/Q747.png\" width=\"1200\" />"
   ]
  },
  {
   "cell_type": "markdown",
   "metadata": {},
   "source": [
    "# Question 345. Reverse Vowels of a String"
   ]
  },
  {
   "cell_type": "code",
   "execution_count": 19,
   "metadata": {},
   "outputs": [],
   "source": [
    "class Solution:\n",
    "    def reverseVowels(self, s):\n",
    "        \"\"\"\n",
    "        :type s: str\n",
    "        :rtype: str\n",
    "        \"\"\"\n",
    "        vowels = {'a','e','i','o','u','A','E','I','O','U'}\n",
    "        vow_idx = list()\n",
    "\n",
    "        for x in range(len(s)):\n",
    "            if vowels.issuperset(s[x]):\n",
    "                vow_idx.append(x)\n",
    "\n",
    "        kelime = list(s)\n",
    "        last = str()\n",
    "        # if vow_idx is even len(vow_idx)/2\n",
    "        for z in range(int(len(vow_idx)/2)):\n",
    "            kelime[vow_idx[z]], kelime[vow_idx[-(z+1)]] = kelime[vow_idx[-(z+1)]], kelime[vow_idx[z]]  \n",
    "        for b in range(len(kelime)):\n",
    "            last += kelime[b]\n",
    "        return last"
   ]
  },
  {
   "cell_type": "code",
   "execution_count": 20,
   "metadata": {},
   "outputs": [
    {
     "name": "stdout",
     "output_type": "stream",
     "text": [
      "holle\n",
      "leotcede\n"
     ]
    }
   ],
   "source": [
    "S4 = Solution()\n",
    "print(S4.reverseVowels('hello'))\n",
    "print(S4.reverseVowels('leetcode'))"
   ]
  },
  {
   "cell_type": "markdown",
   "metadata": {},
   "source": [
    "<img src=\"Screenshots/Q345.png\" width=\"1200\" />"
   ]
  },
  {
   "cell_type": "markdown",
   "metadata": {},
   "source": [
    "# Question 66. Plus One"
   ]
  },
  {
   "cell_type": "code",
   "execution_count": 1,
   "metadata": {},
   "outputs": [],
   "source": [
    "class Solution:\n",
    "    def plusOne(self, digits):\n",
    "        \"\"\"\n",
    "        :type digits: List[int]\n",
    "        :rtype: List[int]\n",
    "        \"\"\"\n",
    "        leaf = str()\n",
    "        linum = list()\n",
    "        for d in range(len(digits)):\n",
    "            leaf += str(digits[d])\n",
    "        maksa = str(int(leaf) + 1)\n",
    "        for f in range(len(maksa)):\n",
    "            linum.append(int(maksa[f]))\n",
    "        return linum"
   ]
  },
  {
   "cell_type": "code",
   "execution_count": 2,
   "metadata": {},
   "outputs": [
    {
     "name": "stdout",
     "output_type": "stream",
     "text": [
      "[1, 2, 4]\n",
      "[4, 3, 2, 2]\n"
     ]
    }
   ],
   "source": [
    "S5 = Solution()\n",
    "print(S5.plusOne([1,2,3]))\n",
    "print(S5.plusOne([4,3,2,1]))"
   ]
  },
  {
   "cell_type": "markdown",
   "metadata": {},
   "source": [
    "<img src=\"Screenshots/Q66.png\" width=\"1200\" />"
   ]
  },
  {
   "cell_type": "markdown",
   "metadata": {},
   "source": [
    "# Question 917. Reverse Only Letters"
   ]
  },
  {
   "cell_type": "code",
   "execution_count": 5,
   "metadata": {},
   "outputs": [],
   "source": [
    "class Solution:\n",
    "    def reverseOnlyLetters(self, S):\n",
    "        others = {'0','1','2','3','4','5','6','7','8','9','+','-','_','!','@','#','$','%','^','&','*','(',')','<','>',',','.','?','=',':',';','`',\"]\",\"[\",\"{\",\"}\",\"'\",\"/\"}\n",
    "        let_idx = list()\n",
    "\n",
    "        for x in range(len(S)):\n",
    "            if others.issuperset(S[x]):\n",
    "                pass\n",
    "            else:\n",
    "                let_idx.append(x)\n",
    "\n",
    "        kelime = list(S)\n",
    "        last = str()\n",
    "        # if vow_idx is even len(vow_idx)/2\n",
    "        for z in range(int(len(let_idx)/2)):\n",
    "            kelime[let_idx[z]], kelime[let_idx[-(z+1)]] = kelime[let_idx[-(z+1)]], kelime[let_idx[z]]  \n",
    "        for b in range(len(kelime)):\n",
    "            last += kelime[b]\n",
    "        return last"
   ]
  },
  {
   "cell_type": "code",
   "execution_count": null,
   "metadata": {},
   "outputs": [],
   "source": [
    "S6 = Solution()\n",
    "print(S6.reverseOnlyLetters(\"ab-cd\"))\n",
    "print(S6.reverseOnlyLetters(\"a-bC-dEf-ghIj\"))\n",
    "print(S6.reverseOnlyLetters(\"Test1ng-Leet=code-Q!\"))"
   ]
  },
  {
   "cell_type": "markdown",
   "metadata": {},
   "source": [
    "<img src=\"Screenshots/Q917.png\" width=\"1200\" />"
   ]
  },
  {
   "cell_type": "markdown",
   "metadata": {},
   "source": [
    "# Question 728. Self Dividing Numbers"
   ]
  },
  {
   "cell_type": "code",
   "execution_count": 7,
   "metadata": {},
   "outputs": [],
   "source": [
    "class Solution:\n",
    "    def selfDividingNumbers(self, left, right):\n",
    "        \"\"\"\n",
    "        :type left: int\n",
    "        :type right: int\n",
    "        :rtype: List[int]\n",
    "        \"\"\"\n",
    "        def checkNums(num):\n",
    "            strNum = str(num)\n",
    "            if strNum.find('0') != -1:\n",
    "                return False\n",
    "            for g in range(len(strNum)):\n",
    "                if num % (int(strNum[g])) == 0:\n",
    "                    continue\n",
    "                else:\n",
    "                    return False\n",
    "            return True\n",
    "        \n",
    "        result = list()\n",
    "        for h in range(left,right+1):\n",
    "            if checkNums(h):\n",
    "                result.append(h)\n",
    "            else:\n",
    "                continue\n",
    "        return result"
   ]
  },
  {
   "cell_type": "code",
   "execution_count": 8,
   "metadata": {},
   "outputs": [
    {
     "name": "stdout",
     "output_type": "stream",
     "text": [
      "[1, 2, 3, 4, 5, 6, 7, 8, 9, 11, 12, 15, 22]\n"
     ]
    }
   ],
   "source": [
    "S7 = Solution()\n",
    "print(S7.selfDividingNumbers(1,22))"
   ]
  },
  {
   "cell_type": "markdown",
   "metadata": {},
   "source": [
    "<img src=\"Screenshots/Q728.png\" width=\"1200\" />"
   ]
  },
  {
   "cell_type": "markdown",
   "metadata": {},
   "source": [
    "# Question 43. Multiply Strings"
   ]
  },
  {
   "cell_type": "code",
   "execution_count": 9,
   "metadata": {},
   "outputs": [],
   "source": [
    "class Solution:\n",
    "    def multiply(self, num1, num2):\n",
    "        \"\"\"\n",
    "        :type num1: str\n",
    "        :type num2: str\n",
    "        :rtype: str\n",
    "        \"\"\"\n",
    "        fnum1 = int(num1)\n",
    "        fnum2 = int(num2)\n",
    "        return str(fnum1*fnum2)"
   ]
  },
  {
   "cell_type": "code",
   "execution_count": 11,
   "metadata": {},
   "outputs": [
    {
     "name": "stdout",
     "output_type": "stream",
     "text": [
      "15 <class 'str'>\n"
     ]
    }
   ],
   "source": [
    "S8 = Solution()\n",
    "print(S8.multiply(\"3\",\"5\"), type(S8.multiply(\"3\",\"5\")))"
   ]
  },
  {
   "cell_type": "markdown",
   "metadata": {},
   "source": [
    "<img src=\"Screenshots/Q43.png\" width=\"1200\" />"
   ]
  },
  {
   "cell_type": "markdown",
   "metadata": {},
   "source": [
    "# Question 287. Find the Duplicate Number"
   ]
  },
  {
   "cell_type": "code",
   "execution_count": 12,
   "metadata": {},
   "outputs": [],
   "source": [
    "class Solution:\n",
    "    def findDuplicate(self, nums):\n",
    "        nums_set = set(nums)\n",
    "        num_list = list(nums_set)\n",
    "        for x in range(len(num_list)):\n",
    "            nums.remove(num_list[x])\n",
    "        return nums[0]"
   ]
  },
  {
   "cell_type": "code",
   "execution_count": 13,
   "metadata": {},
   "outputs": [
    {
     "name": "stdout",
     "output_type": "stream",
     "text": [
      "2\n"
     ]
    }
   ],
   "source": [
    "S9 = Solution()\n",
    "print(S9.findDuplicate([1,3,4,2,2]))"
   ]
  },
  {
   "cell_type": "markdown",
   "metadata": {},
   "source": [
    "Second Way: (Bu da Time Limit Exceeded hatasi veriyor)"
   ]
  },
  {
   "cell_type": "code",
   "execution_count": 1,
   "metadata": {},
   "outputs": [],
   "source": [
    "class Solution:\n",
    "    def findDuplicate(self, nums):\n",
    "        for c in range(len(nums)):\n",
    "            if nums.count(nums[c]) > 1:\n",
    "                return nums[c]"
   ]
  },
  {
   "cell_type": "code",
   "execution_count": 2,
   "metadata": {},
   "outputs": [
    {
     "name": "stdout",
     "output_type": "stream",
     "text": [
      "2\n"
     ]
    }
   ],
   "source": [
    "S9 = Solution()\n",
    "print(S9.findDuplicate([1,3,4,2,2]))"
   ]
  },
  {
   "cell_type": "markdown",
   "metadata": {},
   "source": [
    "Third way: (Bu da Time Limit Exceeded hatasi veriyor) [Pes ettim]"
   ]
  },
  {
   "cell_type": "code",
   "execution_count": 4,
   "metadata": {},
   "outputs": [],
   "source": [
    "class Solution:\n",
    "    def findDuplicate(self, nums):\n",
    "        nums.sort()\n",
    "        new = []\n",
    "        for i in nums:\n",
    "            if i not in new:\n",
    "                new.append(i)\n",
    "            else:\n",
    "                return i"
   ]
  },
  {
   "cell_type": "code",
   "execution_count": 5,
   "metadata": {},
   "outputs": [
    {
     "name": "stdout",
     "output_type": "stream",
     "text": [
      "2\n"
     ]
    }
   ],
   "source": [
    "S9 = Solution()\n",
    "print(S9.findDuplicate([1,3,4,2,2]))"
   ]
  },
  {
   "cell_type": "markdown",
   "metadata": {},
   "source": [
    "Numpy kullaninca daha hizli oldu."
   ]
  },
  {
   "cell_type": "code",
   "execution_count": 8,
   "metadata": {},
   "outputs": [
    {
     "name": "stdout",
     "output_type": "stream",
     "text": [
      "2\n"
     ]
    }
   ],
   "source": [
    "import numpy as np\n",
    "from collections import Counter\n",
    "class Solution:\n",
    "    def findDuplicate(self, nums):\n",
    "        arr = np.array(nums)\n",
    "        con = Counter(nums)\n",
    "        return con.most_common(1)[0][0]\n",
    "S9 = Solution()\n",
    "print(S9.findDuplicate([1,3,4,2,2]))"
   ]
  },
  {
   "cell_type": "markdown",
   "metadata": {},
   "source": [
    "<img src=\"Screenshots/Q287.png\" width=\"1200\" />"
   ]
  },
  {
   "cell_type": "markdown",
   "metadata": {},
   "source": [
    "# Question 442. Find All Duplicates in an Array"
   ]
  },
  {
   "cell_type": "code",
   "execution_count": 14,
   "metadata": {},
   "outputs": [],
   "source": [
    "class Solution:\n",
    "    def findDuplicates(self, nums):\n",
    "        \"\"\"\n",
    "        :type nums: List[int]\n",
    "        :rtype: List[int]\n",
    "        \"\"\"\n",
    "        nums_set = set(nums)\n",
    "        num_list = list(nums_set)\n",
    "        for x in range(len(num_list)):\n",
    "            nums.remove(num_list[x])\n",
    "        return nums"
   ]
  },
  {
   "cell_type": "code",
   "execution_count": 16,
   "metadata": {},
   "outputs": [
    {
     "name": "stdout",
     "output_type": "stream",
     "text": [
      "[2, 3]\n"
     ]
    }
   ],
   "source": [
    "S10 = Solution()\n",
    "print(S10.findDuplicates([4,3,2,7,8,2,3,1]))"
   ]
  },
  {
   "cell_type": "markdown",
   "metadata": {},
   "source": [
    "NOT: 260, 287 ve 442 soru cevap mantigi ayni hatta 287 ve 442 deki kodlarim tamamen ayni. Bu kaodlari jupiter notebookta \n",
    "duzgun calistirabiliyorum. Ancak 287 ve 442 sorular leetcode'da Time Limit Exceeded hatasi veriyor."
   ]
  },
  {
   "cell_type": "code",
   "execution_count": 9,
   "metadata": {},
   "outputs": [
    {
     "name": "stdout",
     "output_type": "stream",
     "text": [
      "[3, 2]\n"
     ]
    }
   ],
   "source": [
    "from collections import Counter\n",
    "\n",
    "class Solution:\n",
    "    def findDuplicates(self, nums):\n",
    "        \"\"\"\n",
    "        :type nums: List[int]\n",
    "        :rtype: List[int]\n",
    "        \"\"\"\n",
    "        con = Counter(nums)\n",
    "        \n",
    "        return [item for item, count in con.items() if count > 1]\n",
    "S10 = Solution()\n",
    "print(S10.findDuplicates([4,3,2,7,8,2,3,1]))"
   ]
  },
  {
   "cell_type": "markdown",
   "metadata": {},
   "source": [
    "<img src=\"Screenshots/Q442.png\" width=\"1200\" />"
   ]
  },
  {
   "cell_type": "markdown",
   "metadata": {},
   "source": [
    "# Question 2. Add Two Numbers"
   ]
  },
  {
   "cell_type": "code",
   "execution_count": 4,
   "metadata": {},
   "outputs": [],
   "source": [
    "class ListNode:\n",
    "    def __init__(self, x):\n",
    "        numStr = list(str(x)) \n",
    "        newlist = list(int(x) for x in numStr)\n",
    "        self.normal = x\n",
    "        self.total = newlist[::-1]\n",
    "        self.index = 0\n",
    "        self.val = self.total[self.index]\n",
    "        try:\n",
    "            self.nextValue = self.total[self.index + 1]\n",
    "        except IndexError:\n",
    "            self.nextValue = None\n",
    "        \n",
    "    def __str__(self):\n",
    "        return \"%s\" %self.total\n",
    "        \n",
    "    def next(self):\n",
    "        self.index += 1\n",
    "        self.val = self.total[self.index]\n",
    "        try:\n",
    "            self.nextValue = self.total[self.index + 1]\n",
    "        except:\n",
    "            self.nextValue = None\n",
    "            \n",
    "    def __len__(self):\n",
    "        return len(self.total)\n",
    "            \n",
    "class Solution:\n",
    "    def addTwoNumbers(self, l1, l2):\n",
    "        \"\"\"\n",
    "        :type l1: ListNode\n",
    "        :type l2: ListNode\n",
    "        :rtype: ListNode\n",
    "        \"\"\"\n",
    "        result = ListNode(l1.normal + l2.normal)\n",
    "        return result.total"
   ]
  },
  {
   "cell_type": "code",
   "execution_count": 5,
   "metadata": {},
   "outputs": [
    {
     "data": {
      "text/plain": [
       "[7, 0, 8]"
      ]
     },
     "execution_count": 5,
     "metadata": {},
     "output_type": "execute_result"
    }
   ],
   "source": [
    "l1 = ListNode(342)\n",
    "l2 = ListNode(465)\n",
    "S = Solution()\n",
    "S.addTwoNumbers(l1,l2)"
   ]
  },
  {
   "cell_type": "markdown",
   "metadata": {},
   "source": [
    "Not: Kendime gore modifiye ettim."
   ]
  },
  {
   "cell_type": "markdown",
   "metadata": {},
   "source": [
    "Sorunun esas cozumu:"
   ]
  },
  {
   "cell_type": "code",
   "execution_count": 10,
   "metadata": {},
   "outputs": [],
   "source": [
    "class ListNode:\n",
    "    def __init__(self, x):\n",
    "        numStr = list(str(x)) \n",
    "        newlist = list(int(x) for x in numStr)\n",
    "        self.normal = x\n",
    "        self.total = newlist[::-1]\n",
    "        self.index = 0\n",
    "        self.val = self.total[self.index]\n",
    "        try:\n",
    "            self.nextValue = self.total[self.index + 1]\n",
    "        except IndexError:\n",
    "            self.nextValue = None\n",
    "        \n",
    "    def __str__(self):\n",
    "        return \"%s\" %self.total\n",
    "        \n",
    "    def next(self):\n",
    "        self.index += 1\n",
    "        self.val = self.total[self.index]\n",
    "        try:\n",
    "            self.nextValue = self.total[self.index + 1]\n",
    "        except:\n",
    "            self.nextValue = None\n",
    "            \n",
    "    def __len__(self):\n",
    "        return len(self.total)\n",
    "class Solution:\n",
    "    def addTwoNumbers(self, l1, l2):\n",
    "        \"\"\"\n",
    "        :type l1: ListNode\n",
    "        :type l2: ListNode\n",
    "        :rtype: ListNode\n",
    "        \"\"\"\n",
    "        def convertNode(numbers):\n",
    "            # Now convert that list into linked list\n",
    "            dummyRoot = ListNode(0)\n",
    "            ptr = dummyRoot\n",
    "            for number in numbers:\n",
    "                ptr.next = ListNode(number)\n",
    "                ptr = ptr.next\n",
    "\n",
    "            ptr = dummyRoot.next\n",
    "            return ptr\n",
    "        toplam = 0\n",
    "        n = 0\n",
    "        while True: \n",
    "            if l1 ==  None:\n",
    "                t1 = 0\n",
    "            else:\n",
    "                t1 = l1.val    \n",
    "            if l2 == None:\n",
    "                t2 = 0\n",
    "            else:\n",
    "                t2 = l2.val\n",
    "            \n",
    "            v1 = int(str(t1))\n",
    "            v2 = int(str(t2))\n",
    "            toplam += (v1 + v2)*(10**n)\n",
    "            n += 1\n",
    "            if l1 == None and l2 == None:\n",
    "                break\n",
    "            if l1 != None:\n",
    "                l1 = l1.next\n",
    "            if l2 != None:\n",
    "                l2 = l2.next\n",
    "            \n",
    "        numStr = list(int(h) for h in list(str(toplam)))\n",
    "        print(numStr)\n",
    "        return convertNode(numStr[::-1])"
   ]
  },
  {
   "cell_type": "code",
   "execution_count": 11,
   "metadata": {},
   "outputs": [
    {
     "ename": "AttributeError",
     "evalue": "'function' object has no attribute 'val'",
     "output_type": "error",
     "traceback": [
      "\u001b[1;31m---------------------------------------------------------------------------\u001b[0m",
      "\u001b[1;31mAttributeError\u001b[0m                            Traceback (most recent call last)",
      "\u001b[1;32m<ipython-input-11-14ed082f69d5>\u001b[0m in \u001b[0;36m<module>\u001b[1;34m()\u001b[0m\n\u001b[0;32m      2\u001b[0m \u001b[0ml2\u001b[0m \u001b[1;33m=\u001b[0m \u001b[0mListNode\u001b[0m\u001b[1;33m(\u001b[0m\u001b[1;36m465\u001b[0m\u001b[1;33m)\u001b[0m\u001b[1;33m\u001b[0m\u001b[0m\n\u001b[0;32m      3\u001b[0m \u001b[0mS\u001b[0m \u001b[1;33m=\u001b[0m \u001b[0mSolution\u001b[0m\u001b[1;33m(\u001b[0m\u001b[1;33m)\u001b[0m\u001b[1;33m\u001b[0m\u001b[0m\n\u001b[1;32m----> 4\u001b[1;33m \u001b[0mS\u001b[0m\u001b[1;33m.\u001b[0m\u001b[0maddTwoNumbers\u001b[0m\u001b[1;33m(\u001b[0m\u001b[0ml1\u001b[0m\u001b[1;33m,\u001b[0m\u001b[0ml2\u001b[0m\u001b[1;33m)\u001b[0m\u001b[1;33m\u001b[0m\u001b[0m\n\u001b[0m",
      "\u001b[1;32m<ipython-input-10-cb2289455ade>\u001b[0m in \u001b[0;36maddTwoNumbers\u001b[1;34m(self, l1, l2)\u001b[0m\n\u001b[0;32m     48\u001b[0m                 \u001b[0mt1\u001b[0m \u001b[1;33m=\u001b[0m \u001b[1;36m0\u001b[0m\u001b[1;33m\u001b[0m\u001b[0m\n\u001b[0;32m     49\u001b[0m             \u001b[1;32melse\u001b[0m\u001b[1;33m:\u001b[0m\u001b[1;33m\u001b[0m\u001b[0m\n\u001b[1;32m---> 50\u001b[1;33m                 \u001b[0mt1\u001b[0m \u001b[1;33m=\u001b[0m \u001b[0ml1\u001b[0m\u001b[1;33m.\u001b[0m\u001b[0mval\u001b[0m\u001b[1;33m\u001b[0m\u001b[0m\n\u001b[0m\u001b[0;32m     51\u001b[0m             \u001b[1;32mif\u001b[0m \u001b[0ml2\u001b[0m \u001b[1;33m==\u001b[0m \u001b[1;32mNone\u001b[0m\u001b[1;33m:\u001b[0m\u001b[1;33m\u001b[0m\u001b[0m\n\u001b[0;32m     52\u001b[0m                 \u001b[0mt2\u001b[0m \u001b[1;33m=\u001b[0m \u001b[1;36m0\u001b[0m\u001b[1;33m\u001b[0m\u001b[0m\n",
      "\u001b[1;31mAttributeError\u001b[0m: 'function' object has no attribute 'val'"
     ]
    }
   ],
   "source": [
    "l1 = ListNode(342)\n",
    "l2 = ListNode(465)\n",
    "S = Solution()\n",
    "S.addTwoNumbers(l1,l2)"
   ]
  },
  {
   "cell_type": "markdown",
   "metadata": {},
   "source": [
    "# Question 8. String to Integer (atoi)"
   ]
  },
  {
   "cell_type": "code",
   "execution_count": 2,
   "metadata": {},
   "outputs": [],
   "source": [
    "class Solution:\n",
    "    def myAtoi(self, str):\n",
    "        \"\"\"\n",
    "        :type str: str\n",
    "        :rtype: int\n",
    "        \"\"\"\n",
    "        txt = str\n",
    "        # We got rid of white spaces and we took the first part of it\n",
    "        stxt = txt.split()\n",
    "        \n",
    "        #print(stxt)\n",
    "        \n",
    "        for seri in stxt:\n",
    "            res = \"\"\n",
    "            for ix in range(len(seri)):\n",
    "                # Checking first letter\n",
    "                if ix == 0 and (seri[ix] == '+' or seri[ix] == '-'):\n",
    "                    res += seri[ix]\n",
    "                elif 47<ord(seri[ix])<58:\n",
    "                    res += seri[ix]\n",
    "                else:\n",
    "                    if ix == 0:\n",
    "                        return 0\n",
    "                    break\n",
    "            break\n",
    "                \n",
    "                \n",
    "        try:\n",
    "            if res.startswith('.'):\n",
    "                res = res[1:]\n",
    "            if int(res) > 2**31-1:\n",
    "                result = 2**31-1\n",
    "            elif  int(res) < -2**31:\n",
    "                result = -2**31\n",
    "            else:\n",
    "                result = int(res)\n",
    "            return  result\n",
    "        except:\n",
    "            return 0"
   ]
  },
  {
   "cell_type": "code",
   "execution_count": 3,
   "metadata": {},
   "outputs": [
    {
     "data": {
      "text/plain": [
       "-2147483648"
      ]
     },
     "execution_count": 3,
     "metadata": {},
     "output_type": "execute_result"
    }
   ],
   "source": [
    "s1 = \"-91283472332\"\n",
    "S = Solution()\n",
    "S.myAtoi(s1)"
   ]
  },
  {
   "cell_type": "markdown",
   "metadata": {},
   "source": [
    "<img src=\"Screenshots/Q8.png\" width=\"1200\" />"
   ]
  },
  {
   "cell_type": "markdown",
   "metadata": {},
   "source": [
    "# Ouestion 29. Divide Two Integers"
   ]
  },
  {
   "cell_type": "code",
   "execution_count": 4,
   "metadata": {},
   "outputs": [],
   "source": [
    "class Solution:\n",
    "    def divide(self, dividend, divisor):\n",
    "        \"\"\"\n",
    "        :type dividend: int\n",
    "        :type divisor: int\n",
    "        :rtype: int\n",
    "        \"\"\"\n",
    "        negat = False\n",
    "        kere = 0\n",
    "        \n",
    "        # if dividend equals 0 don't drown in code return 0\n",
    "        if dividend == 0:\n",
    "            return 0\n",
    "        \n",
    "        # we will make all positive \n",
    "        if (dividend<0 and divisor<0):\n",
    "            dividend,divisor = -dividend,-divisor\n",
    "        elif dividend<0:\n",
    "            dividend = -dividend\n",
    "            negat = True\n",
    "        elif divisor<0:\n",
    "            divisor = -divisor\n",
    "            negat = True\n",
    "        \n",
    "        while dividend >= divisor:\n",
    "            dividend = dividend - divisor\n",
    "            kere += 1\n",
    "        \n",
    "        if negat:\n",
    "            if kere > 2**31:\n",
    "                kere = 2**31\n",
    "            return -kere\n",
    "        else: \n",
    "            if kere >= 2**31-1:\n",
    "                kere = 2**31-1\n",
    "            return kere"
   ]
  },
  {
   "cell_type": "code",
   "execution_count": 5,
   "metadata": {},
   "outputs": [
    {
     "data": {
      "text/plain": [
       "2147483647"
      ]
     },
     "execution_count": 5,
     "metadata": {},
     "output_type": "execute_result"
    }
   ],
   "source": [
    "S29 = Solution()\n",
    "S29.divide(-2147483648,-1)"
   ]
  },
  {
   "cell_type": "markdown",
   "metadata": {},
   "source": [
    "Not: Cok buyuk sayilarda Time limit exceeded sikintisi var, henuz daha kisa bir yol bulamadim."
   ]
  },
  {
   "cell_type": "markdown",
   "metadata": {},
   "source": [
    "# Question 151. Reverse Words in a String"
   ]
  },
  {
   "cell_type": "code",
   "execution_count": 6,
   "metadata": {},
   "outputs": [],
   "source": [
    "class Solution(object):\n",
    "    def reverseWords(self, s):\n",
    "        \"\"\"\n",
    "        :type s: str\n",
    "        :rtype: str\n",
    "        \"\"\"\n",
    "        txt = str()\n",
    "        yastik = s.split()\n",
    "        for t in yastik[::-1]:\n",
    "            txt += t + \" \"\n",
    "        \n",
    "        return txt[:-1]"
   ]
  },
  {
   "cell_type": "code",
   "execution_count": 7,
   "metadata": {},
   "outputs": [
    {
     "data": {
      "text/plain": [
       "'blue is sky the'"
      ]
     },
     "execution_count": 7,
     "metadata": {},
     "output_type": "execute_result"
    }
   ],
   "source": [
    "S151 = Solution()\n",
    "S151.reverseWords(\"the sky is blue\")"
   ]
  },
  {
   "cell_type": "markdown",
   "metadata": {},
   "source": [
    "<img src=\"Screenshots/Q151.png\" width=\"1200\" />"
   ]
  },
  {
   "cell_type": "markdown",
   "metadata": {},
   "source": [
    "# Question 866. Prime Palindrome"
   ]
  },
  {
   "cell_type": "markdown",
   "metadata": {},
   "source": [
    "1. Yol (Yine Time LImit zimbirtisi)"
   ]
  },
  {
   "cell_type": "code",
   "execution_count": 1,
   "metadata": {},
   "outputs": [],
   "source": [
    "class Solution:\n",
    "    def primePalindrome(self, N):\n",
    "        \"\"\"\n",
    "        :type N: int\n",
    "        :rtype: int\n",
    "        \"\"\"\n",
    "        def isPrime(n):\n",
    "            for st in range(2,n):\n",
    "                if n%st == 0:\n",
    "                    return False\n",
    "                else:\n",
    "                    continue\n",
    "            return True\n",
    "        \n",
    "        def isPal(num):\n",
    "            snum = str(num)\n",
    "            return snum == snum[::-1]    \n",
    "        \n",
    "        while True:\n",
    "            if isPal(N) and N>1:\n",
    "                if isPrime(N):\n",
    "                    return N\n",
    "            N += 1\n",
    "            "
   ]
  },
  {
   "cell_type": "code",
   "execution_count": 2,
   "metadata": {},
   "outputs": [
    {
     "data": {
      "text/plain": [
       "3075703"
      ]
     },
     "execution_count": 2,
     "metadata": {},
     "output_type": "execute_result"
    }
   ],
   "source": [
    "S866 = Solution()\n",
    "S866.primePalindrome(3073704)"
   ]
  },
  {
   "cell_type": "markdown",
   "metadata": {},
   "source": [
    "2.Yol (Hala olmuyor)"
   ]
  },
  {
   "cell_type": "code",
   "execution_count": 3,
   "metadata": {},
   "outputs": [],
   "source": [
    "class Solution:\n",
    "    def primePalindrome(self, N):\n",
    "        isPrime = False\n",
    "        isPal = lambda snu: True if snu == snu[::-1] else False\n",
    "        \n",
    "        def generator_function(n):\n",
    "            if n == 2:\n",
    "                n +=1\n",
    "            for i in range(2,n):\n",
    "                yield n%i == 0\n",
    "        while True:\n",
    "            snum = str(N)\n",
    "            if isPal(snum) and N>1:\n",
    "                for res in generator_function(N):\n",
    "                    if res:\n",
    "                        isPrime = False\n",
    "                        break\n",
    "                    isPrime = True\n",
    "                if isPrime:\n",
    "                    return N    \n",
    "            N += 1  "
   ]
  },
  {
   "cell_type": "code",
   "execution_count": 4,
   "metadata": {},
   "outputs": [
    {
     "data": {
      "text/plain": [
       "3075703"
      ]
     },
     "execution_count": 4,
     "metadata": {},
     "output_type": "execute_result"
    }
   ],
   "source": [
    "S866 = Solution()\n",
    "S866.primePalindrome(3073704)"
   ]
  },
  {
   "cell_type": "markdown",
   "metadata": {},
   "source": [
    "# Question 166. Fraction to Recurring Decimal"
   ]
  },
  {
   "cell_type": "markdown",
   "metadata": {},
   "source": [
    "Henuz tum testleri gecemiyor (Halledicem)"
   ]
  },
  {
   "cell_type": "code",
   "execution_count": 5,
   "metadata": {},
   "outputs": [],
   "source": [
    "class Solution(object):\n",
    "    def fractionToDecimal(self, numerator, denominator):\n",
    "        def findParts(s):\n",
    "            # this is our experiment tool\n",
    "            window = \"\"\n",
    "            \n",
    "            #We took after '.'\n",
    "            textorj = s[s.index('.')+1:]\n",
    "            text = textorj\n",
    "            \n",
    "            #if it is 0 don't drown in code\n",
    "            if textorj == '0':\n",
    "                return \"\"\n",
    "            \n",
    "            #result will be (unrepPart1 + repPart + unrepPart2)inverse\n",
    "            repFound = False\n",
    "            unrepPart1 = \"\"\n",
    "            repPart = \"\"\n",
    "            unrepPart2 = \"\"\n",
    "            while text != \"\":\n",
    "                repFound = False\n",
    "                temp = \"\"\n",
    "                # we are taking first element and throwing it away from our test object\n",
    "                window += text[0]\n",
    "                text = text[1:]\n",
    "                #print(\"Window \",window)\n",
    "                #We will look our test object throug window and try to find repPart\n",
    "                for deve in range(len(window)):\n",
    "                    try:\n",
    "                        #print(\"Text   \",text)\n",
    "                        #print(\"window \",window)\n",
    "                        # if there is a similarity we add it into repPart untill we faced with an unrep\n",
    "                        if window[deve] == text[deve]:\n",
    "                            temp += text[deve]\n",
    "                            repFound = True\n",
    "                        elif repFound and window[deve] != text[deve] and deve != len(window)-1:\n",
    "                            temp = \"\"\n",
    "                            break\n",
    "                    except:\n",
    "                        if repPart != \"\" and repFound and window.count(repPart)!=len(window):\n",
    "                            for p in window.split(repPart):\n",
    "                                if p == \"\":\n",
    "                                    pass\n",
    "                                elif len(p) > len(repPart):\n",
    "                                    temp = window\n",
    "                        else:\n",
    "                            temp = \"\"\n",
    "                                \n",
    "                        break\n",
    "                #print(\"Temp    \", temp)\n",
    "                #print(\"RepPart \", repPart)                            \n",
    "                if repFound:\n",
    "                    if len(temp) > len(repPart):\n",
    "                        if repPart != \"\":\n",
    "                            for p in temp.split(repPart):\n",
    "                                if p == \"\":\n",
    "                                    pass\n",
    "                                elif len(p) >= len(repPart):\n",
    "                                    repPart = temp\n",
    "                        else:\n",
    "                            repPart = temp\n",
    "                        #print(\"Temp \", temp,\" Rp \", repPart)\n",
    "                        continue\n",
    "                    elif len(text) > 0:\n",
    "                        continue\n",
    "                   \n",
    "                    break\n",
    "                else:\n",
    "                    temp = \"\"\n",
    "                #print(\"Temp    \", temp)\n",
    "                #print(\"RepPart \", repPart)  \n",
    "                \n",
    "            if repPart != \"\":\n",
    "                p1 = True\n",
    "                #print(textorj.split(repPart))\n",
    "                for w in textorj.split(repPart):\n",
    "                    if p1 and w != '':\n",
    "                        unrepPart1 += w\n",
    "                    elif w == '':\n",
    "                        p1 = False\n",
    "                    else:\n",
    "                        unrepPart2 += w\n",
    "                #print(\"unrepPart1 \",unrepPart1 , \"repPart\",  repPart , \"unrepPart2\", unrepPart2)\n",
    "                ret = unrepPart1 + \"(\" + repPart + \")\"\n",
    "            else:\n",
    "                ret = window\n",
    "            return ret\n",
    "        \n",
    "        res = str(numerator/denominator)\n",
    "        print(res)\n",
    "        # res is always float num\n",
    "        \n",
    "        if float(res[res.index('.')+1:]) > 0:\n",
    "            result = res[:res.index('.')+1]+findParts(res)\n",
    "        else:\n",
    "            result = res[:res.index('.')]\n",
    "        \n",
    "        return result"
   ]
  },
  {
   "cell_type": "code",
   "execution_count": 6,
   "metadata": {},
   "outputs": [
    {
     "name": "stdout",
     "output_type": "stream",
     "text": [
      "0.012012012012012012\n"
     ]
    },
    {
     "data": {
      "text/plain": [
       "'0.(012)'"
      ]
     },
     "execution_count": 6,
     "metadata": {},
     "output_type": "execute_result"
    }
   ],
   "source": [
    "S166 = Solution()\n",
    "S166.fractionToDecimal(4,333)"
   ]
  },
  {
   "cell_type": "code",
   "execution_count": null,
   "metadata": {},
   "outputs": [],
   "source": []
  }
 ],
 "metadata": {
  "kernelspec": {
   "display_name": "Python 3",
   "language": "python",
   "name": "python3"
  },
  "language_info": {
   "codemirror_mode": {
    "name": "ipython",
    "version": 3
   },
   "file_extension": ".py",
   "mimetype": "text/x-python",
   "name": "python",
   "nbconvert_exporter": "python",
   "pygments_lexer": "ipython3",
   "version": "3.7.0"
  }
 },
 "nbformat": 4,
 "nbformat_minor": 2
}
