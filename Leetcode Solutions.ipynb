{
 "cells": [
  {
   "cell_type": "markdown",
   "metadata": {},
   "source": [
    "# Question 859. Buddy Strings"
   ]
  },
  {
   "cell_type": "code",
   "execution_count": 8,
   "metadata": {},
   "outputs": [],
   "source": [
    "class Solution:   \n",
    "    def buddyStrings(self, A, B):\n",
    "        \"\"\"\n",
    "        :type A: str\n",
    "        :type B: str\n",
    "        :rtype: bool\n",
    "        \"\"\"\n",
    "        #Check 1: lenght of the words must be equal\n",
    "        if len(A) != len(B):\n",
    "            return False\n",
    "        \n",
    "        #Check 2: different letter quantity should be 0 or 2 because we will change only two letters\n",
    "        def check(myStr):\n",
    "            for x in range(len(myStr)):\n",
    "                if myStr.count(myStr[x]) > 1:\n",
    "                    return True\n",
    "            return False    \n",
    "     \n",
    "        dif_num = 0\n",
    "        dif_idx = []\n",
    "        setA = set()\n",
    "        setB = set()\n",
    "        for x in range(len(A)):\n",
    "            if A[x] != B[x]:\n",
    "                dif_idx.append(x)\n",
    "                setA.add(A[x])\n",
    "                setB.add(B[x])\n",
    "        if len(dif_idx) > 0 and len(dif_idx) != 2:\n",
    "            return False\n",
    "        elif len(dif_idx) == 0:\n",
    "            return check(A)\n",
    "        else:\n",
    "            return setA==setB"
   ]
  },
  {
   "cell_type": "code",
   "execution_count": 14,
   "metadata": {},
   "outputs": [
    {
     "name": "stdout",
     "output_type": "stream",
     "text": [
      "True\n",
      "False\n",
      "True\n",
      "True\n",
      "False\n",
      "False\n",
      "False\n"
     ]
    }
   ],
   "source": [
    "S = Solution()\n",
    "print(S.buddyStrings(\"ab\",\"ba\"))\n",
    "print(S.buddyStrings(\"ab\",\"ab\"))\n",
    "print(S.buddyStrings(\"aa\",\"aa\"))\n",
    "print(S.buddyStrings(\"aaaabc\",\"aaaacb\"))\n",
    "print(S.buddyStrings(\"aaadbc\",\"aadacb\"))\n",
    "print(S.buddyStrings(\"ac\",\"aa\"))\n",
    "print(S.buddyStrings(\"\",\"aa\"))"
   ]
  },
  {
   "cell_type": "markdown",
   "metadata": {},
   "source": [
    "# Question 260. Single Number III"
   ]
  },
  {
   "cell_type": "code",
   "execution_count": 15,
   "metadata": {},
   "outputs": [],
   "source": [
    "class Solution:\n",
    "    def singleNumber(self, nums):\n",
    "        \"\"\"\n",
    "        :type nums: List[int]\n",
    "        :rtype: List[int]\n",
    "        \"\"\"\n",
    "        nums_set = set(nums)\n",
    "        num_list = list(nums_set)\n",
    "        for x in range(len(num_list)):\n",
    "            nums.remove(num_list[x])\n",
    "        new_set = set(nums) \n",
    "        return list(nums_set.difference(new_set))"
   ]
  },
  {
   "cell_type": "code",
   "execution_count": 16,
   "metadata": {},
   "outputs": [
    {
     "name": "stdout",
     "output_type": "stream",
     "text": [
      "[3, 5]\n"
     ]
    }
   ],
   "source": [
    "S2 = Solution()\n",
    "print(S2.singleNumber([1,2,1,3,2,5]))"
   ]
  },
  {
   "cell_type": "markdown",
   "metadata": {},
   "source": [
    "# Question 747. Largest Number At Least Twice of Others"
   ]
  },
  {
   "cell_type": "code",
   "execution_count": 17,
   "metadata": {},
   "outputs": [],
   "source": [
    "class Solution:\n",
    "    def dominantIndex(self, nums):\n",
    "        numMax = max(nums)\n",
    "        for x in range(len(nums)):\n",
    "            if x == nums.index(numMax) or nums[x] == 0:\n",
    "                continue\n",
    "            if numMax/nums[x] < 2:\n",
    "                return -1\n",
    "        return nums.index(numMax)"
   ]
  },
  {
   "cell_type": "code",
   "execution_count": 18,
   "metadata": {},
   "outputs": [
    {
     "name": "stdout",
     "output_type": "stream",
     "text": [
      "1\n",
      "-1\n"
     ]
    }
   ],
   "source": [
    "S3 = Solution()\n",
    "print(S3.dominantIndex([3,6,1,0]))\n",
    "print(S3.dominantIndex([1,2,3,4]))"
   ]
  },
  {
   "cell_type": "markdown",
   "metadata": {},
   "source": [
    "# Question 345. Reverse Vowels of a String"
   ]
  },
  {
   "cell_type": "code",
   "execution_count": 19,
   "metadata": {},
   "outputs": [],
   "source": [
    "class Solution:\n",
    "    def reverseVowels(self, s):\n",
    "        \"\"\"\n",
    "        :type s: str\n",
    "        :rtype: str\n",
    "        \"\"\"\n",
    "        vowels = {'a','e','i','o','u','A','E','I','O','U'}\n",
    "        vow_idx = list()\n",
    "\n",
    "        for x in range(len(s)):\n",
    "            if vowels.issuperset(s[x]):\n",
    "                vow_idx.append(x)\n",
    "\n",
    "        kelime = list(s)\n",
    "        last = str()\n",
    "        # if vow_idx is even len(vow_idx)/2\n",
    "        for z in range(int(len(vow_idx)/2)):\n",
    "            kelime[vow_idx[z]], kelime[vow_idx[-(z+1)]] = kelime[vow_idx[-(z+1)]], kelime[vow_idx[z]]  \n",
    "        for b in range(len(kelime)):\n",
    "            last += kelime[b]\n",
    "        return last"
   ]
  },
  {
   "cell_type": "code",
   "execution_count": 20,
   "metadata": {},
   "outputs": [
    {
     "name": "stdout",
     "output_type": "stream",
     "text": [
      "holle\n",
      "leotcede\n"
     ]
    }
   ],
   "source": [
    "S4 = Solution()\n",
    "print(S4.reverseVowels('hello'))\n",
    "print(S4.reverseVowels('leetcode'))"
   ]
  },
  {
   "cell_type": "code",
   "execution_count": null,
   "metadata": {},
   "outputs": [],
   "source": []
  }
 ],
 "metadata": {
  "kernelspec": {
   "display_name": "Python 3",
   "language": "python",
   "name": "python3"
  },
  "language_info": {
   "codemirror_mode": {
    "name": "ipython",
    "version": 3
   },
   "file_extension": ".py",
   "mimetype": "text/x-python",
   "name": "python",
   "nbconvert_exporter": "python",
   "pygments_lexer": "ipython3",
   "version": "3.7.0"
  }
 },
 "nbformat": 4,
 "nbformat_minor": 2
}
